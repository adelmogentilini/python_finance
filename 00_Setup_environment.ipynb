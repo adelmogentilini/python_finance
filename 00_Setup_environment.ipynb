{
 "cells": [
  {
   "cell_type": "markdown",
   "metadata": {},
   "source": [
    "### 1 - Import test data"
   ]
  },
  {
   "cell_type": "markdown",
   "metadata": {},
   "source": [
    "Notebook per sistemare l'environment con tutto quello che deve esserci installato."
   ]
  },
  {
   "cell_type": "code",
   "execution_count": 1,
   "metadata": {},
   "outputs": [
    {
     "name": "stdout",
     "output_type": "stream",
     "text": [
      "Requirement already satisfied: pip in .\\_venv\\lib\\site-packages (24.2)\n"
     ]
    }
   ],
   "source": [
    "!python.exe -m pip install --upgrade pip"
   ]
  },
  {
   "cell_type": "code",
   "execution_count": 2,
   "metadata": {},
   "outputs": [
    {
     "name": "stdout",
     "output_type": "stream",
     "text": [
      "Requirement already satisfied: pandas_ta in .\\_venv\\lib\\site-packages (0.3.14b0)\n",
      "Requirement already satisfied: pandas in .\\_venv\\lib\\site-packages (from pandas_ta) (2.2.2)\n",
      "Requirement already satisfied: numpy>=1.22.4 in .\\_venv\\lib\\site-packages (from pandas->pandas_ta) (2.0.1)\n",
      "Requirement already satisfied: python-dateutil>=2.8.2 in .\\_venv\\lib\\site-packages (from pandas->pandas_ta) (2.9.0.post0)\n",
      "Requirement already satisfied: pytz>=2020.1 in .\\_venv\\lib\\site-packages (from pandas->pandas_ta) (2024.1)\n",
      "Requirement already satisfied: tzdata>=2022.7 in .\\_venv\\lib\\site-packages (from pandas->pandas_ta) (2024.1)\n",
      "Requirement already satisfied: six>=1.5 in .\\_venv\\lib\\site-packages (from python-dateutil>=2.8.2->pandas->pandas_ta) (1.16.0)\n",
      "Note: you may need to restart the kernel to use updated packages.\n",
      "Requirement already satisfied: pandas in .\\_venv\\lib\\site-packages (2.2.2)\n",
      "Requirement already satisfied: numpy>=1.22.4 in .\\_venv\\lib\\site-packages (from pandas) (2.0.1)\n",
      "Requirement already satisfied: python-dateutil>=2.8.2 in .\\_venv\\lib\\site-packages (from pandas) (2.9.0.post0)\n",
      "Requirement already satisfied: pytz>=2020.1 in .\\_venv\\lib\\site-packages (from pandas) (2024.1)\n",
      "Requirement already satisfied: tzdata>=2022.7 in .\\_venv\\lib\\site-packages (from pandas) (2024.1)\n",
      "Requirement already satisfied: six>=1.5 in .\\_venv\\lib\\site-packages (from python-dateutil>=2.8.2->pandas) (1.16.0)\n",
      "Note: you may need to restart the kernel to use updated packages.\n",
      "Requirement already satisfied: yfinance in .\\_venv\\lib\\site-packages (0.2.41)\n",
      "Requirement already satisfied: pandas>=1.3.0 in .\\_venv\\lib\\site-packages (from yfinance) (2.2.2)\n",
      "Requirement already satisfied: numpy>=1.16.5 in .\\_venv\\lib\\site-packages (from yfinance) (2.0.1)\n",
      "Requirement already satisfied: requests>=2.31 in .\\_venv\\lib\\site-packages (from yfinance) (2.32.3)\n",
      "Requirement already satisfied: multitasking>=0.0.7 in .\\_venv\\lib\\site-packages (from yfinance) (0.0.11)\n",
      "Requirement already satisfied: lxml>=4.9.1 in .\\_venv\\lib\\site-packages (from yfinance) (5.3.0)\n",
      "Requirement already satisfied: platformdirs>=2.0.0 in .\\_venv\\lib\\site-packages (from yfinance) (4.2.2)\n",
      "Requirement already satisfied: pytz>=2022.5 in .\\_venv\\lib\\site-packages (from yfinance) (2024.1)\n",
      "Requirement already satisfied: frozendict>=2.3.4 in .\\_venv\\lib\\site-packages (from yfinance) (2.4.4)\n",
      "Requirement already satisfied: peewee>=3.16.2 in .\\_venv\\lib\\site-packages (from yfinance) (3.17.6)\n",
      "Requirement already satisfied: beautifulsoup4>=4.11.1 in .\\_venv\\lib\\site-packages (from yfinance) (4.12.3)\n",
      "Requirement already satisfied: html5lib>=1.1 in .\\_venv\\lib\\site-packages (from yfinance) (1.1)\n",
      "Requirement already satisfied: soupsieve>1.2 in .\\_venv\\lib\\site-packages (from beautifulsoup4>=4.11.1->yfinance) (2.6)\n",
      "Requirement already satisfied: six>=1.9 in .\\_venv\\lib\\site-packages (from html5lib>=1.1->yfinance) (1.16.0)\n",
      "Requirement already satisfied: webencodings in .\\_venv\\lib\\site-packages (from html5lib>=1.1->yfinance) (0.5.1)\n",
      "Requirement already satisfied: python-dateutil>=2.8.2 in .\\_venv\\lib\\site-packages (from pandas>=1.3.0->yfinance) (2.9.0.post0)\n",
      "Requirement already satisfied: tzdata>=2022.7 in .\\_venv\\lib\\site-packages (from pandas>=1.3.0->yfinance) (2024.1)\n",
      "Requirement already satisfied: charset-normalizer<4,>=2 in .\\_venv\\lib\\site-packages (from requests>=2.31->yfinance) (3.3.2)\n",
      "Requirement already satisfied: idna<4,>=2.5 in .\\_venv\\lib\\site-packages (from requests>=2.31->yfinance) (3.7)\n",
      "Requirement already satisfied: urllib3<3,>=1.21.1 in .\\_venv\\lib\\site-packages (from requests>=2.31->yfinance) (2.2.2)\n",
      "Requirement already satisfied: certifi>=2017.4.17 in .\\_venv\\lib\\site-packages (from requests>=2.31->yfinance) (2024.7.4)\n",
      "Note: you may need to restart the kernel to use updated packages.\n",
      "Requirement already satisfied: plotly in .\\_venv\\lib\\site-packages (5.23.0)\n",
      "Requirement already satisfied: tenacity>=6.2.0 in .\\_venv\\lib\\site-packages (from plotly) (9.0.0)\n",
      "Requirement already satisfied: packaging in .\\_venv\\lib\\site-packages (from plotly) (24.1)\n",
      "Note: you may need to restart the kernel to use updated packages.\n",
      "Requirement already satisfied: nbformat in .\\_venv\\lib\\site-packages (5.10.4)\n",
      "Requirement already satisfied: fastjsonschema>=2.15 in .\\_venv\\lib\\site-packages (from nbformat) (2.20.0)\n",
      "Requirement already satisfied: jsonschema>=2.6 in .\\_venv\\lib\\site-packages (from nbformat) (4.23.0)\n",
      "Requirement already satisfied: jupyter-core!=5.0.*,>=4.12 in .\\_venv\\lib\\site-packages (from nbformat) (5.7.2)\n",
      "Requirement already satisfied: traitlets>=5.1 in .\\_venv\\lib\\site-packages (from nbformat) (5.14.3)\n",
      "Requirement already satisfied: attrs>=22.2.0 in .\\_venv\\lib\\site-packages (from jsonschema>=2.6->nbformat) (24.2.0)\n",
      "Requirement already satisfied: jsonschema-specifications>=2023.03.6 in .\\_venv\\lib\\site-packages (from jsonschema>=2.6->nbformat) (2023.12.1)\n",
      "Requirement already satisfied: referencing>=0.28.4 in .\\_venv\\lib\\site-packages (from jsonschema>=2.6->nbformat) (0.35.1)\n",
      "Requirement already satisfied: rpds-py>=0.7.1 in .\\_venv\\lib\\site-packages (from jsonschema>=2.6->nbformat) (0.20.0)\n",
      "Requirement already satisfied: platformdirs>=2.5 in .\\_venv\\lib\\site-packages (from jupyter-core!=5.0.*,>=4.12->nbformat) (4.2.2)\n",
      "Requirement already satisfied: pywin32>=300 in .\\_venv\\lib\\site-packages (from jupyter-core!=5.0.*,>=4.12->nbformat) (306)\n",
      "Note: you may need to restart the kernel to use updated packages.\n",
      "Requirement already satisfied: numpy in .\\_venv\\lib\\site-packages (2.0.1)\n",
      "Note: you may need to restart the kernel to use updated packages.\n"
     ]
    }
   ],
   "source": [
    "%pip install pandas_ta\n",
    "%pip install pandas\n",
    "%pip install yfinance\n",
    "%pip install plotly\n",
    "%pip install nbformat\n",
    "%pip install numpy\n"
   ]
  },
  {
   "cell_type": "code",
   "execution_count": null,
   "metadata": {},
   "outputs": [],
   "source": [
    "%pip install --downgrade numpy\n",
    "# necessario perchè la 2.0 non è compatibile con pandasta\n"
   ]
  },
  {
   "cell_type": "code",
   "execution_count": 1,
   "metadata": {},
   "outputs": [
    {
     "name": "stdout",
     "output_type": "stream",
     "text": [
      "Requirement already satisfied: tqdm in .\\_venv\\lib\\site-packages (4.66.5)\n",
      "Requirement already satisfied: colorama in .\\_venv\\lib\\site-packages (from tqdm) (0.4.6)\n",
      "Note: you may need to restart the kernel to use updated packages.\n"
     ]
    }
   ],
   "source": [
    "%pip install tqdm"
   ]
  },
  {
   "cell_type": "code",
   "execution_count": 2,
   "metadata": {},
   "outputs": [
    {
     "name": "stdout",
     "output_type": "stream",
     "text": [
      "Collecting backtesting\n",
      "  Downloading Backtesting-0.3.3.tar.gz (175 kB)\n",
      "  Installing build dependencies: started\n",
      "  Installing build dependencies: finished with status 'done'\n",
      "  Getting requirements to build wheel: started\n",
      "  Getting requirements to build wheel: finished with status 'done'\n",
      "  Installing backend dependencies: started\n",
      "  Installing backend dependencies: finished with status 'done'\n",
      "  Preparing metadata (pyproject.toml): started\n",
      "  Preparing metadata (pyproject.toml): finished with status 'done'\n",
      "Requirement already satisfied: numpy>=1.17.0 in .\\_venv\\lib\\site-packages (from backtesting) (1.26.4)\n",
      "Requirement already satisfied: pandas!=0.25.0,>=0.25.0 in .\\_venv\\lib\\site-packages (from backtesting) (2.2.2)\n",
      "Collecting bokeh>=1.4.0 (from backtesting)\n",
      "  Downloading bokeh-3.5.1-py3-none-any.whl.metadata (12 kB)\n",
      "Collecting Jinja2>=2.9 (from bokeh>=1.4.0->backtesting)\n",
      "  Downloading jinja2-3.1.4-py3-none-any.whl.metadata (2.6 kB)\n",
      "Collecting contourpy>=1.2 (from bokeh>=1.4.0->backtesting)\n",
      "  Downloading contourpy-1.2.1-cp310-cp310-win_amd64.whl.metadata (5.8 kB)\n",
      "Requirement already satisfied: packaging>=16.8 in .\\_venv\\lib\\site-packages (from bokeh>=1.4.0->backtesting) (24.1)\n",
      "Collecting pillow>=7.1.0 (from bokeh>=1.4.0->backtesting)\n",
      "  Downloading pillow-10.4.0-cp310-cp310-win_amd64.whl.metadata (9.3 kB)\n",
      "Collecting PyYAML>=3.10 (from bokeh>=1.4.0->backtesting)\n",
      "  Downloading PyYAML-6.0.2-cp310-cp310-win_amd64.whl.metadata (2.1 kB)\n",
      "Requirement already satisfied: tornado>=6.2 in .\\_venv\\lib\\site-packages (from bokeh>=1.4.0->backtesting) (6.4.1)\n",
      "Collecting xyzservices>=2021.09.1 (from bokeh>=1.4.0->backtesting)\n",
      "  Downloading xyzservices-2024.6.0-py3-none-any.whl.metadata (4.0 kB)\n",
      "Requirement already satisfied: python-dateutil>=2.8.2 in .\\_venv\\lib\\site-packages (from pandas!=0.25.0,>=0.25.0->backtesting) (2.9.0.post0)\n",
      "Requirement already satisfied: pytz>=2020.1 in .\\_venv\\lib\\site-packages (from pandas!=0.25.0,>=0.25.0->backtesting) (2024.1)\n",
      "Requirement already satisfied: tzdata>=2022.7 in .\\_venv\\lib\\site-packages (from pandas!=0.25.0,>=0.25.0->backtesting) (2024.1)\n",
      "Collecting MarkupSafe>=2.0 (from Jinja2>=2.9->bokeh>=1.4.0->backtesting)\n",
      "  Downloading MarkupSafe-2.1.5-cp310-cp310-win_amd64.whl.metadata (3.1 kB)\n",
      "Requirement already satisfied: six>=1.5 in .\\_venv\\lib\\site-packages (from python-dateutil>=2.8.2->pandas!=0.25.0,>=0.25.0->backtesting) (1.16.0)\n",
      "Downloading bokeh-3.5.1-py3-none-any.whl (6.8 MB)\n",
      "   ---------------------------------------- 0.0/6.8 MB ? eta -:--:--\n",
      "   ----------------------------------- ---- 6.0/6.8 MB 30.8 MB/s eta 0:00:01\n",
      "   -------------------------------------- - 6.6/6.8 MB 31.0 MB/s eta 0:00:01\n",
      "   -------------------------------------- - 6.6/6.8 MB 31.0 MB/s eta 0:00:01\n",
      "   -------------------------------------- - 6.6/6.8 MB 31.0 MB/s eta 0:00:01\n",
      "   -------------------------------------- - 6.6/6.8 MB 31.0 MB/s eta 0:00:01\n",
      "   -------------------------------------- - 6.6/6.8 MB 31.0 MB/s eta 0:00:01\n",
      "   -------------------------------------- - 6.6/6.8 MB 31.0 MB/s eta 0:00:01\n",
      "   -------------------------------------- - 6.6/6.8 MB 31.0 MB/s eta 0:00:01\n",
      "   -------------------------------------- - 6.6/6.8 MB 31.0 MB/s eta 0:00:01\n",
      "   -------------------------------------- - 6.6/6.8 MB 31.0 MB/s eta 0:00:01\n",
      "   -------------------------------------- - 6.6/6.8 MB 31.0 MB/s eta 0:00:01\n",
      "   ---------------------------------------- 6.8/6.8 MB 2.7 MB/s eta 0:00:00\n",
      "Downloading contourpy-1.2.1-cp310-cp310-win_amd64.whl (187 kB)\n",
      "Downloading jinja2-3.1.4-py3-none-any.whl (133 kB)\n",
      "Downloading pillow-10.4.0-cp310-cp310-win_amd64.whl (2.6 MB)\n",
      "   ---------------------------------------- 0.0/2.6 MB ? eta -:--:--\n",
      "   ------------------------------------ --- 2.4/2.6 MB 22.3 MB/s eta 0:00:01\n",
      "   ------------------------------------ --- 2.4/2.6 MB 22.3 MB/s eta 0:00:01\n",
      "   ------------------------------------ --- 2.4/2.6 MB 22.3 MB/s eta 0:00:01\n",
      "   ------------------------------------ --- 2.4/2.6 MB 22.3 MB/s eta 0:00:01\n",
      "   ------------------------------------ --- 2.4/2.6 MB 22.3 MB/s eta 0:00:01\n",
      "   ------------------------------------ --- 2.4/2.6 MB 22.3 MB/s eta 0:00:01\n",
      "   ------------------------------------ --- 2.4/2.6 MB 22.3 MB/s eta 0:00:01\n",
      "   ------------------------------------ --- 2.4/2.6 MB 22.3 MB/s eta 0:00:01\n",
      "   ------------------------------------ --- 2.4/2.6 MB 22.3 MB/s eta 0:00:01\n",
      "   ------------------------------------ --- 2.4/2.6 MB 22.3 MB/s eta 0:00:01\n",
      "   ---------------------------------------- 2.6/2.6 MB 1.0 MB/s eta 0:00:00\n",
      "Downloading PyYAML-6.0.2-cp310-cp310-win_amd64.whl (161 kB)\n",
      "Downloading xyzservices-2024.6.0-py3-none-any.whl (83 kB)\n",
      "Downloading MarkupSafe-2.1.5-cp310-cp310-win_amd64.whl (17 kB)\n",
      "Building wheels for collected packages: backtesting\n",
      "  Building wheel for backtesting (pyproject.toml): started\n",
      "  Building wheel for backtesting (pyproject.toml): finished with status 'done'\n",
      "  Created wheel for backtesting: filename=Backtesting-0.3.3-py3-none-any.whl size=173963 sha256=61471f5b73a8031fa2b2b4266b1d4fed20c31bc978d8bc07ef2b159784099f3c\n",
      "  Stored in directory: c:\\users\\adelm\\appdata\\local\\pip\\cache\\wheels\\e2\\30\\7f\\19cbe31987c6ebdb47f1f510343249066711609e3da2d57176\n",
      "Successfully built backtesting\n",
      "Installing collected packages: xyzservices, PyYAML, pillow, MarkupSafe, contourpy, Jinja2, bokeh, backtesting\n",
      "Successfully installed Jinja2-3.1.4 MarkupSafe-2.1.5 PyYAML-6.0.2 backtesting-0.3.3 bokeh-3.5.1 contourpy-1.2.1 pillow-10.4.0 xyzservices-2024.6.0\n",
      "Note: you may need to restart the kernel to use updated packages.\n"
     ]
    },
    {
     "name": "stderr",
     "output_type": "stream",
     "text": [
      "WARNING: Retrying (Retry(total=4, connect=None, read=None, redirect=None, status=None)) after connection broken by 'ProtocolError('Connection aborted.', ConnectionResetError(10054, \"Connessione in corso interrotta forzatamente dall'host remoto\", None, 10054, None))': /simple/backtesting/\n",
      "WARNING: Retrying (Retry(total=3, connect=None, read=None, redirect=None, status=None)) after connection broken by 'ProtocolError('Connection aborted.', ConnectionResetError(10054, \"Connessione in corso interrotta forzatamente dall'host remoto\", None, 10054, None))': /simple/backtesting/\n"
     ]
    }
   ],
   "source": [
    "%pip install backtesting"
   ]
  }
 ],
 "metadata": {
  "kernelspec": {
   "display_name": "Python 3.10.8 64-bit",
   "language": "python",
   "name": "python3"
  },
  "language_info": {
   "codemirror_mode": {
    "name": "ipython",
    "version": 3
   },
   "file_extension": ".py",
   "mimetype": "text/x-python",
   "name": "python",
   "nbconvert_exporter": "python",
   "pygments_lexer": "ipython3",
   "version": "3.10.11"
  },
  "vscode": {
   "interpreter": {
    "hash": "c0ff92a541b5eb8a0f75470c34280cf0dea79e8b819847822bd36e33345fddf3"
   }
  }
 },
 "nbformat": 4,
 "nbformat_minor": 2
}
